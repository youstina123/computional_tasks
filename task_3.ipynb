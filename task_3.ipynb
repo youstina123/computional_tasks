{
 "cells": [
  {
   "cell_type": "code",
   "execution_count": 1,
   "id": "f703d399",
   "metadata": {},
   "outputs": [],
   "source": [
    "import cobra\n",
    "from cobra import Model,Reaction,Metabolite"
   ]
  },
  {
   "cell_type": "code",
   "execution_count": 2,
   "id": "e97788b8",
   "metadata": {},
   "outputs": [],
   "source": [
    "model=Model('glycolytic')"
   ]
  },
  {
   "cell_type": "code",
   "execution_count": 3,
   "id": "1824c9f8",
   "metadata": {},
   "outputs": [],
   "source": [
    "GLUin=Reaction('GLUin') ##### ======>GLuc\n",
    "GLUin.name='GLUcose_import'\n",
    "GLUin.lower_bound=1\n",
    "GLUin.upper_bound=1\n",
    "\n",
    "HK=Reaction('HK')########## Gluc + ATP ========> G6P + ADP + H\n",
    "HK.name='Hexokinase'\n",
    "HK.lower_bound=0\n",
    "HK.upper_bound=1000\n",
    "\n",
    "PGI=Reaction('PGI')########## G6P <===========> F6P\n",
    "PGI.name='Glucose 6-phosphate isomerase'\n",
    "PGI.lower_bound=-1000\n",
    "PGI.upper_bound=1000\n",
    "\n",
    "PFK=Reaction('PFK')########## F6P + ATP ========> FDP + ADP + H\n",
    "PFK.name='Phosphofructokinase'\n",
    "PFK.lower_bound=0\n",
    "PFK.upper_bound=1000\n",
    "\n",
    "TPI=Reaction('TPI')########## DHAP <=============> GAP\n",
    "TPI.name='Triose-phosphate isomerase'\n",
    "TPI.lower_bound=1000\n",
    "TPI.upper_bound=1000\n",
    "\n",
    "FBA=Reaction('FBA')########## FDP <=============> DHAP + GAP\n",
    "FBA.name='Fructose 1,6-diphosphate aldolase'\n",
    "FBA.lower_bound=1000\n",
    "FBA.upper_bound=1000\n",
    "\n",
    "GAPD=Reaction('GAPD')########## GAP + NAD + Pi <==========> DPG13 + NADH + H+\n",
    "GAPD.name='Glyceraldehyde 3-phosphate dehydrogenase'\n",
    "GAPD.lower_bound=1000\n",
    "GAPD.upper_bound=1000\n",
    "\n",
    "PGK=Reaction('PGK')########## DPG13 + ADP <=============> PG3 + ATP\n",
    "PGK.name='Phosphoglycerate kinase'\n",
    "PGK.lower_bound=1000\n",
    "PGK.upper_bound=1000\n",
    "\n",
    "PGM=Reaction('PGM')########## PG3 <===========> PG2\n",
    "PGM.name='Phosphoglycerate mutase'\n",
    "PGM.lower_bound=1000\n",
    "PGM.upper_bound=1000\n",
    "\n",
    "ENO=Reaction('ENO')########## PG2 <===========> PEP + H2O\n",
    "ENO.name='Enolase'\n",
    "ENO.lower_bound=1000\n",
    "ENO.upper_bound=1000\n",
    "\n",
    "PYK=Reaction('PYK')########## PEP + ADP + H+ =======> PYR + ATP\n",
    "PYK.name='Pyruvate kinase'\n",
    "PYK.lower_bound=0\n",
    "PYK.upper_bound=1000\n"
   ]
  },
  {
   "cell_type": "code",
   "execution_count": 4,
   "id": "10bdae78",
   "metadata": {},
   "outputs": [],
   "source": [
    "Gluc=Metabolite(\n",
    "    'Gluc',\n",
    "    formula='C6H12O6',\n",
    "    name='Glucose',\n",
    "    compartment='c')\n",
    "\n",
    "ATP=Metabolite(\n",
    "    'ATP',\n",
    "    formula='C10H16N5O13P3',\n",
    "    name='Adenosine tri-phosphate',\n",
    "    compartment='c')\n",
    "\n",
    "ADP=Metabolite(\n",
    "    'ADP',\n",
    "    formula='C10H15N5O10P2',\n",
    "    name='Adenosine di-phosphate',\n",
    "    compartment='c')\n",
    "\n",
    "\n",
    "G6P=Metabolite(\n",
    "    'G6P',\n",
    "    formula='C6H13O9P',\n",
    "    name='Glucose 6-phosphate',\n",
    "    compartment='c')\n",
    "\n",
    "H=Metabolite(\n",
    "    'H',\n",
    "    formula='H+',\n",
    "    name='Proton',\n",
    "    compartment='c')\n",
    "\n",
    "F6P=Metabolite(\n",
    "    'F6P',\n",
    "    formula='C6H13O9P',\n",
    "    name='Fructose 6-phosphate',\n",
    "    compartment='c')\n",
    "\n",
    "FDP=Metabolite(\n",
    "    'FDP',\n",
    "    formula='C6H14O12P2',\n",
    "    name='Fructose 1,6-diphosphate',\n",
    "    compartment='c')\n",
    "\n",
    "DHAP=Metabolite(\n",
    "    'DHAP',\n",
    "    formula='C3H7O6P',\n",
    "    name='Dihydroxyacetone phosphate',\n",
    "    compartment='c')\n",
    "\n",
    "GAP=Metabolite(\n",
    "    'GAP',\n",
    "    formula='C3H7O6P',\n",
    "    name='Glyceraldehyde 3-phosphate',\n",
    "    compartment='c')\n",
    "\n",
    "NAD=Metabolite(\n",
    "    'NAD',\n",
    "    formula='C21H27N7O14P2',\n",
    "    name='Nicotinamide adenine dinucleotide (oxidized)',\n",
    "    compartment='c')\n",
    "\n",
    "NADH=Metabolite(\n",
    "    'NADH',\n",
    "    formula='C21H27N7O14P2',\n",
    "    name='Nicotinamide adenine dinucleotide (reduced)',\n",
    "    compartment='c')\n",
    "\n",
    "Pi=Metabolite(\n",
    "    'Pi',\n",
    "    formula='O4P-3',\n",
    "    name='Inorganic phosphate',\n",
    "    compartment='c')\n",
    "\n",
    "DPG13=Metabolite(\n",
    "    'DPG13',\n",
    "    formula='C3H6O10P2-2',\n",
    "    name='1,3-Diphosphoglycerate',\n",
    "    compartment='c')\n",
    "\n",
    "PG3=Metabolite(\n",
    "    'PG3',\n",
    "    formula='C3H7O7P',\n",
    "    name='3-Phosphoglycerate',\n",
    "    compartment='c')\n",
    "\n",
    "PG2=Metabolite(\n",
    "    'PG2',\n",
    "    formula='C3H7O7P',\n",
    "    name='2-Phosphoglycerate',\n",
    "    compartment='c')\n",
    "\n",
    "PEP=Metabolite(\n",
    "    'PEP',\n",
    "    formula='C3H5O6P',\n",
    "    name='Phosphoenolpyruvate',\n",
    "    compartment='c')\n",
    "\n",
    "H2O=Metabolite(\n",
    "    'H2O',\n",
    "    formula='H2O',\n",
    "    name='Water',\n",
    "    compartment='c')\n",
    "\n",
    "PYR=Metabolite(\n",
    "    'PYR',\n",
    "    formula='C3H4O3',\n",
    "    name='Pyruvate',\n",
    "    compartment='c')"
   ]
  },
  {
   "cell_type": "code",
   "execution_count": 5,
   "id": "69604e28",
   "metadata": {},
   "outputs": [],
   "source": [
    "GLUin.add_metabolites({Gluc:1})\n",
    "HK.add_metabolites({Gluc:-1,ATP:-1,G6P:1,ADP:1,H:1})\n",
    "PGI.add_metabolites({G6P:-1,F6P:1})\n",
    "PFK.add_metabolites({F6P:-1,ATP:-1,FDP:1,ADP:1,H:1})\n",
    "TPI.add_metabolites({DHAP:-1,GAP:1})\n",
    "FBA.add_metabolites({FDP:-1,DHAP:1,GAP:1})\n",
    "GAPD.add_metabolites({GAP:-1,NAD:-1,Pi:-1,DPG13:1,NADH:1,H:1})\n",
    "PGK.add_metabolites({DPG13:-1,ADP:-1,PG3:1,ATP:1})\n",
    "PGM.add_metabolites({PG3:-1,PG2:1})\n",
    "ENO.add_metabolites({PG2:-1,PEP:1,H2O:1})\n",
    "PYK.add_metabolites({PEP:-1,ADP:-1,H:-1,PYR:1,ATP:1})"
   ]
  },
  {
   "cell_type": "code",
   "execution_count": 6,
   "id": "350dfd25",
   "metadata": {},
   "outputs": [],
   "source": [
    "model.add_reactions({GLUin,HK,PGI,PFK,TPI,FBA,GAPD,PGK,PGM,ENO,PYK})"
   ]
  },
  {
   "cell_type": "code",
   "execution_count": 7,
   "id": "63ff7246",
   "metadata": {},
   "outputs": [],
   "source": [
    "cobra.io.save_json_model(model,\"test_3.json\")"
   ]
  },
  {
   "cell_type": "code",
   "execution_count": 8,
   "id": "95306287",
   "metadata": {},
   "outputs": [],
   "source": [
    "import escher"
   ]
  },
  {
   "cell_type": "code",
   "execution_count": 9,
   "id": "6920055d",
   "metadata": {},
   "outputs": [],
   "source": [
    "from escher import Builder"
   ]
  },
  {
   "cell_type": "code",
   "execution_count": 10,
   "id": "81d2df5b",
   "metadata": {},
   "outputs": [],
   "source": [
    "builder=Builder()"
   ]
  },
  {
   "cell_type": "code",
   "execution_count": 11,
   "id": "18288a1b",
   "metadata": {},
   "outputs": [
    {
     "data": {
      "application/vnd.jupyter.widget-view+json": {
       "model_id": "22846d6f6a4c418cbce8bbcb4f1c1b70",
       "version_major": 2,
       "version_minor": 0
      },
      "text/plain": [
       "Builder()"
      ]
     },
     "metadata": {},
     "output_type": "display_data"
    }
   ],
   "source": [
    "builder"
   ]
  },
  {
   "cell_type": "code",
   "execution_count": null,
   "id": "08d9182b",
   "metadata": {},
   "outputs": [],
   "source": []
  }
 ],
 "metadata": {
  "kernelspec": {
   "display_name": "Python 3 (ipykernel)",
   "language": "python",
   "name": "python3"
  },
  "language_info": {
   "codemirror_mode": {
    "name": "ipython",
    "version": 3
   },
   "file_extension": ".py",
   "mimetype": "text/x-python",
   "name": "python",
   "nbconvert_exporter": "python",
   "pygments_lexer": "ipython3",
   "version": "3.9.7"
  }
 },
 "nbformat": 4,
 "nbformat_minor": 5
}
