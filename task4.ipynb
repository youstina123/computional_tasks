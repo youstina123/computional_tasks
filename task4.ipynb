{
 "cells": [
  {
   "cell_type": "code",
   "execution_count": null,
   "id": "4270ff9e",
   "metadata": {},
   "outputs": [],
   "source": [
    "import networkx as nx"
   ]
  },
  {
   "cell_type": "code",
   "execution_count": null,
   "id": "5a21b491",
   "metadata": {},
   "outputs": [],
   "source": [
    "G=nx.Graph()"
   ]
  },
  {
   "cell_type": "code",
   "execution_count": null,
   "id": "4a2c0961",
   "metadata": {},
   "outputs": [],
   "source": [
    "G.add_nodes_from(['a','b','c','d','e'])"
   ]
  },
  {
   "cell_type": "code",
   "execution_count": null,
   "id": "0fc71d48",
   "metadata": {},
   "outputs": [],
   "source": [
    "G.add_edges_from([('a','b'),('b','c'),('a','c'),('c','d'),('a','e')])"
   ]
  },
  {
   "cell_type": "code",
   "execution_count": null,
   "id": "752dcc93",
   "metadata": {},
   "outputs": [],
   "source": [
    "nx.draw(G,with_labels=True,font_color=\"white\",node_color=\"green\",node_size=1500,font_size=30)\n"
   ]
  },
  {
   "cell_type": "code",
   "execution_count": null,
   "id": "3a66ed0b",
   "metadata": {},
   "outputs": [],
   "source": [
    "G.nodes()"
   ]
  },
  {
   "cell_type": "code",
   "execution_count": null,
   "id": "bcc30ecd",
   "metadata": {},
   "outputs": [],
   "source": [
    "G.edges()"
   ]
  },
  {
   "cell_type": "code",
   "execution_count": null,
   "id": "8f560cb8",
   "metadata": {},
   "outputs": [],
   "source": [
    "G.neighbors('a')"
   ]
  },
  {
   "cell_type": "code",
   "execution_count": null,
   "id": "98b30a3b",
   "metadata": {},
   "outputs": [],
   "source": [
    "list(G.neighbors('a'))"
   ]
  },
  {
   "cell_type": "code",
   "execution_count": null,
   "id": "709168c7",
   "metadata": {},
   "outputs": [],
   "source": [
    "G.has_edge('a','b')\n"
   ]
  },
  {
   "cell_type": "code",
   "execution_count": null,
   "id": "febb331b",
   "metadata": {},
   "outputs": [],
   "source": [
    "G.has_edge('a','d')\n"
   ]
  },
  {
   "cell_type": "code",
   "execution_count": null,
   "id": "bc01b732",
   "metadata": {},
   "outputs": [],
   "source": [
    "G.has_node('a')\n"
   ]
  },
  {
   "cell_type": "code",
   "execution_count": null,
   "id": "e36a4564",
   "metadata": {},
   "outputs": [],
   "source": [
    "nx.is_tree(G)"
   ]
  },
  {
   "cell_type": "code",
   "execution_count": null,
   "id": "a2ad13b5",
   "metadata": {},
   "outputs": [],
   "source": [
    "nx.is_connected(G)"
   ]
  },
  {
   "cell_type": "code",
   "execution_count": null,
   "id": "e9abe2be",
   "metadata": {},
   "outputs": [],
   "source": [
    "nx.is_directed(G)"
   ]
  },
  {
   "cell_type": "code",
   "execution_count": null,
   "id": "ba45f419",
   "metadata": {},
   "outputs": [],
   "source": [
    "D=nx.DiGraph()"
   ]
  },
  {
   "cell_type": "code",
   "execution_count": null,
   "id": "f336fe4f",
   "metadata": {},
   "outputs": [],
   "source": [
    "D.add_edges_from([(1,2),(1,3),(3,1),(1,4)])"
   ]
  },
  {
   "cell_type": "code",
   "execution_count": null,
   "id": "e2a68fe1",
   "metadata": {},
   "outputs": [],
   "source": [
    "nx.draw(D,with_labels=True,font_color=\"white\",node_color=\"green\",node_size=1500,font_size=30)"
   ]
  },
  {
   "cell_type": "code",
   "execution_count": null,
   "id": "6bb2b5eb",
   "metadata": {},
   "outputs": [],
   "source": [
    "nx.is_directed(D)\n"
   ]
  }
 ],
 "metadata": {
  "kernelspec": {
   "display_name": "Python 3",
   "language": "python",
   "name": "python3"
  },
  "language_info": {
   "codemirror_mode": {
    "name": "ipython",
    "version": 3
   },
   "file_extension": ".py",
   "mimetype": "text/x-python",
   "name": "python",
   "nbconvert_exporter": "python",
   "pygments_lexer": "ipython3",
   "version": "3.8.8"
  }
 },
 "nbformat": 4,
 "nbformat_minor": 5
}
